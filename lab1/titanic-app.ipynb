{
 "cells": [
  {
   "cell_type": "code",
   "execution_count": 10,
   "id": "b6362842",
   "metadata": {},
   "outputs": [
    {
     "name": "stdout",
     "output_type": "stream",
     "text": [
      "Connection closed.\n",
      "Connected. Call `.close()` to terminate connection gracefully.\n",
      "\n",
      "Multiple projects found. \n",
      "\n",
      "\t (1) ID2223lab\n",
      "\t (2) 2221_1\n",
      "\n",
      "Enter project to access: 1\n",
      "\n",
      "Logged in to project, explore it here https://c.app.hopsworks.ai:443/p/4264\n",
      "Connected. Call `.close()` to terminate connection gracefully.\n",
      "Connected. Call `.close()` to terminate connection gracefully.\n",
      "Downloading file ... "
     ]
    },
    {
     "name": "stderr",
     "output_type": "stream",
     "text": [
      "UserWarning: Usage of gradio.inputs is deprecated, and will not be supported in the future, please import your component from gradio.components\n",
      "UserWarning: `optional` parameter is deprecated, and it has no effect\n",
      "DeprecationWarning: distutils Version classes are deprecated. Use packaging.version instead.\n"
     ]
    },
    {
     "name": "stdout",
     "output_type": "stream",
     "text": [
      "Running on local URL:  http://127.0.0.1:7867\n",
      "\n",
      "To create a public link, set `share=True` in `launch()`.\n"
     ]
    },
    {
     "data": {
      "text/html": [
       "<div><iframe src=\"http://127.0.0.1:7867/\" width=\"100%\" height=\"500\" allow=\"autoplay; camera; microphone; clipboard-read; clipboard-write;\" frameborder=\"0\" allowfullscreen></iframe></div>"
      ],
      "text/plain": [
       "<IPython.core.display.HTML object>"
      ]
     },
     "metadata": {},
     "output_type": "display_data"
    },
    {
     "data": {
      "text/plain": [
       "(<gradio.routes.App at 0x27cd861d550>, 'http://127.0.0.1:7867/', None)"
      ]
     },
     "execution_count": 10,
     "metadata": {},
     "output_type": "execute_result"
    },
    {
     "name": "stderr",
     "output_type": "stream",
     "text": [
      "UserWarning: X does not have valid feature names, but KNeighborsClassifier was fitted with feature names\n",
      "UserWarning: X does not have valid feature names, but KNeighborsClassifier was fitted with feature names\n"
     ]
    }
   ],
   "source": [
    "import gradio as gr\n",
    "import numpy as np\n",
    "from PIL import Image\n",
    "import requests\n",
    "\n",
    "import hopsworks\n",
    "import joblib\n",
    "\n",
    "project = hopsworks.login()\n",
    "fs = project.get_feature_store()\n",
    "\n",
    "\n",
    "mr = project.get_model_registry()\n",
    "model = mr.get_model(\"tita_modal\", version=1)\n",
    "model_dir = model.download()\n",
    "model = joblib.load(model_dir + \"/tita_model.pkl\")\n",
    "\n",
    "\n",
    "def tita(passengerid, age, sibsp, parch, fare, cabin_no, cabin_yes, embarked_c, embarked_q, embarked_s, sex_female, sex_male, pclass_1, pclass_2, pclass_3):\n",
    "    input_list = []\n",
    "    input_list.append(passengerid)\n",
    "    input_list.append(age)\n",
    "    input_list.append(sibsp)\n",
    "    input_list.append(parch)\n",
    "    input_list.append(fare)\n",
    "    input_list.append(cabin_no)\n",
    "    input_list.append(cabin_yes)\n",
    "    input_list.append(embarked_c)\n",
    "    input_list.append(embarked_q)\n",
    "    input_list.append(embarked_s)\n",
    "    input_list.append(sex_female)\n",
    "    input_list.append(sex_male)\n",
    "    input_list.append(pclass_1)\n",
    "    input_list.append(pclass_2)\n",
    "    input_list.append(pclass_3)\n",
    "    # 'res' is a list of predictions returned as the label.\n",
    "    res = model.predict(np.asarray(input_list).reshape(1, -1)) \n",
    "    # We add '[0]' to the result of the transformed 'res', because 'res' is a list, and we only want \n",
    "    # the first element.\n",
    "    if (res[0] == 1):\n",
    "        life = \"alive\"\n",
    "    else:\n",
    "        life = \"dead\"\n",
    "    flower_url = \"https://raw.githubusercontent.com/Man-bearpig/ID2223/main/\" + life + \".png\"\n",
    "    img = Image.open(requests.get(flower_url, stream=True).raw)            \n",
    "    return img\n",
    "        \n",
    "demo = gr.Interface(\n",
    "    fn=tita,\n",
    "    title=\"titanic\",\n",
    "    description=\"Experiment with sepal/petal lengths/widths to predict which flower it is.\",\n",
    "    allow_flagging=\"never\",\n",
    "    inputs=[\n",
    "        gr.inputs.Number(default=1.0, label=\"passengerid\"),\n",
    "        gr.inputs.Number(default=1.0, label=\"age\"),\n",
    "        gr.inputs.Number(default=1.0, label=\"sibsp\"),\n",
    "        gr.inputs.Number(default=1.0, label=\"parch\"),\n",
    "        gr.inputs.Number(default=1.0, label=\"fare\"),\n",
    "        gr.inputs.Number(default=1.0, label=\"cabin_no\"),\n",
    "        gr.inputs.Number(default=1.0, label=\"cabin_yes\"),\n",
    "        gr.inputs.Number(default=1.0, label=\"embarked_c\"),\n",
    "        gr.inputs.Number(default=1.0, label=\"embarked_q\"),\n",
    "        gr.inputs.Number(default=1.0, label=\"embarked_s\"),\n",
    "        gr.inputs.Number(default=1.0, label=\"sex_female\"),\n",
    "        gr.inputs.Number(default=1.0, label=\"sex_male\"),\n",
    "        gr.inputs.Number(default=1.0, label=\"pclass_1\"),\n",
    "        gr.inputs.Number(default=1.0, label=\"pclass_2\"),\n",
    "        gr.inputs.Number(default=1.0, label=\"pclass_3\"),\n",
    "        \n",
    "        ],\n",
    "    outputs=gr.Image(type=\"pil\"))\n",
    "\n",
    "demo.launch()"
   ]
  },
  {
   "cell_type": "code",
   "execution_count": null,
   "id": "afa15f4b",
   "metadata": {},
   "outputs": [],
   "source": []
  }
 ],
 "metadata": {
  "kernelspec": {
   "display_name": "Python 3 (ipykernel)",
   "language": "python",
   "name": "python3"
  },
  "language_info": {
   "codemirror_mode": {
    "name": "ipython",
    "version": 3
   },
   "file_extension": ".py",
   "mimetype": "text/x-python",
   "name": "python",
   "nbconvert_exporter": "python",
   "pygments_lexer": "ipython3",
   "version": "3.9.13"
  }
 },
 "nbformat": 4,
 "nbformat_minor": 5
}
