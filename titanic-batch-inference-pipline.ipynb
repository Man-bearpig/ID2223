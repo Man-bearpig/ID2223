{
 "cells": [
  {
   "cell_type": "code",
   "execution_count": 14,
   "id": "smooth-source",
   "metadata": {
    "scrolled": true
   },
   "outputs": [
    {
     "name": "stdout",
     "output_type": "stream",
     "text": [
      "Connection closed.\n",
      "Connected. Call `.close()` to terminate connection gracefully.\n",
      "\n",
      "Multiple projects found. \n",
      "\n",
      "\t (1) 2221_1\n",
      "\t (2) ID2223lab\n",
      "\n",
      "Enter project to access: 2\n",
      "\n",
      "Logged in to project, explore it here https://c.app.hopsworks.ai:443/p/4264\n",
      "Connected. Call `.close()` to terminate connection gracefully.\n",
      "Connected. Call `.close()` to terminate connection gracefully.\n"
     ]
    },
    {
     "name": "stderr",
     "output_type": "stream",
     "text": [
      "UserWarning: Trying to unpickle estimator BernoulliNB from version 1.0.2 when using version 1.1.3. This might lead to breaking code or invalid results. Use at your own risk. For more info please refer to:\n",
      "https://scikit-learn.org/stable/model_persistence.html#security-maintainability-limitations\n",
      "VersionWarning: No training dataset version was provided to initialise batch scoring . Defaulting to version 1.\n",
      "UserWarning: pandas only supports SQLAlchemy connectable (engine/connection) or database string URI or sqlite3 DBAPI2 connection. Other DBAPI2 objects are not tested. Please consider using SQLAlchemy.\n"
     ]
    },
    {
     "name": "stdout",
     "output_type": "stream",
     "text": [
      "0\n",
      "result\n"
     ]
    },
    {
     "data": {
      "application/vnd.jupyter.widget-view+json": {
       "model_id": "323bdc31aa9d43178fff1ef832a1ba42",
       "version_major": 2,
       "version_minor": 0
      },
      "text/plain": [
       "Uploading: 0.000%|          | 0/873 elapsed<00:00 remaining<?"
      ]
     },
     "metadata": {},
     "output_type": "display_data"
    },
    {
     "name": "stderr",
     "output_type": "stream",
     "text": [
      "UserWarning: pandas only supports SQLAlchemy connectable (engine/connection) or database string URI or sqlite3 DBAPI2 connection. Other DBAPI2 objects are not tested. Please consider using SQLAlchemy.\n"
     ]
    },
    {
     "data": {
      "application/vnd.jupyter.widget-view+json": {
       "model_id": "3ecf4d4e835d42cfb957c6620f2373d8",
       "version_major": 2,
       "version_minor": 0
      },
      "text/plain": [
       "Uploading: 0.000%|          | 0/873 elapsed<00:00 remaining<?"
      ]
     },
     "metadata": {},
     "output_type": "display_data"
    },
    {
     "data": {
      "application/vnd.jupyter.widget-view+json": {
       "model_id": "b4d720a0988d41a8bc50e29de9f3f3fa",
       "version_major": 2,
       "version_minor": 0
      },
      "text/plain": [
       "Uploading Dataframe: 0.00% |          | Rows 0/1 | Elapsed Time: 00:00 | Remaining Time: ?"
      ]
     },
     "metadata": {},
     "output_type": "display_data"
    },
    {
     "name": "stdout",
     "output_type": "stream",
     "text": [
      "Launching offline feature group backfill job...\n",
      "Backfill Job started successfully, you can follow the progress at \n",
      "https://c.app.hopsworks.ai/p/4264/jobs/named/tita_predictions_1_offline_fg_backfill/executions\n"
     ]
    },
    {
     "name": "stderr",
     "output_type": "stream",
     "text": [
      "UserWarning: pandas only supports SQLAlchemy connectable (engine/connection) or database string URI or sqlite3 DBAPI2 connection. Other DBAPI2 objects are not tested. Please consider using SQLAlchemy.\n"
     ]
    },
    {
     "data": {
      "application/vnd.jupyter.widget-view+json": {
       "model_id": "8d41ac7603914b4ca21435e8be7875de",
       "version_major": 2,
       "version_minor": 0
      },
      "text/plain": [
       "Uploading: 0.000%|          | 0/26612 elapsed<00:00 remaining<?"
      ]
     },
     "metadata": {},
     "output_type": "display_data"
    },
    {
     "name": "stdout",
     "output_type": "stream",
     "text": [
      "Number of different flower predictions to date: 2\n"
     ]
    },
    {
     "data": {
      "application/vnd.jupyter.widget-view+json": {
       "model_id": "9b76feada3ff404c938cd3eca462eff4",
       "version_major": 2,
       "version_minor": 0
      },
      "text/plain": [
       "Uploading: 0.000%|          | 0/10613 elapsed<00:00 remaining<?"
      ]
     },
     "metadata": {},
     "output_type": "display_data"
    },
    {
     "data": {
      "image/png": "[encoded data removed]",
      "text/plain": [
       "<Figure size 640x480 with 2 Axes>"
      ]
     },
     "metadata": {},
     "output_type": "display_data"
    }
   ],
   "source": [
    "import os\n",
    "import modal\n",
    "    \n",
    "LOCAL=True\n",
    "\n",
    "if LOCAL == False:\n",
    "   stub = modal.Stub()\n",
    "   hopsworks_image = modal.Image.debian_slim().pip_install([\"hopsworks\",\"joblib\",\"seaborn\",\"sklearn\",\"dataframe-image\"])\n",
    "   @stub.function(image=hopsworks_image, schedule=modal.Period(days=1), secret=modal.Secret.from_name(\"HOPSWORKS_API_KEY\"))\n",
    "   def f():\n",
    "       g()\n",
    "def g():\n",
    "    import pandas as pd\n",
    "    import hopsworks\n",
    "    import joblib\n",
    "    import datetime\n",
    "    from PIL import Image\n",
    "    from datetime import datetime\n",
    "    import dataframe_image as dfi\n",
    "    from sklearn.metrics import confusion_matrix\n",
    "    from matplotlib import pyplot\n",
    "    import seaborn as sns\n",
    "    import requests\n",
    "\n",
    "    project = hopsworks.login()\n",
    "    fs = project.get_feature_store()\n",
    "    \n",
    "    mr = project.get_model_registry()\n",
    "    model = mr.get_model(\"tita_modal\", version=9)\n",
    "    model_dir = model.download()\n",
    "    model = joblib.load(model_dir + \"/tita_model.pkl\")\n",
    "    \n",
    "    feature_view = fs.get_feature_view(name=\"tita_modal\", version=1)\n",
    "    batch_data = feature_view.get_batch_data()\n",
    "    \n",
    "    y_pred = model.predict(batch_data)\n",
    "    # print(y_pred)\n",
    "    result = y_pred[y_pred.size-1]\n",
    "    print(result)\n",
    "    if result == 0:\n",
    "        pred_survived = \"alive\"\n",
    "    else:\n",
    "        pred_survived = \"dead\"\n",
    "    label_url = \"https://raw.githubusercontent.com/Man-bearpig/ID2223/main/\" + pred_survived + \".png\"\n",
    "    print(\"result\")\n",
    "\n",
    "    #flower_url = \"https://raw.githubusercontent.com/featurestoreorg/serverless-ml-course/main/src/01-module/assets/\" + flower + \".png\"\n",
    "    #print(\"Flower predicted: \" + flower)\n",
    "    #print(\"Flower actual: \" + label_url)\n",
    "    img = Image.open(requests.get(label_url, stream=True).raw)            \n",
    "    img.save(\"./pred_passenger.png\")\n",
    "    dataset_api = project.get_dataset_api()   \n",
    "    dataset_api.upload(\"./pred_passenger.png\", \"Resources/images\", overwrite=True)\n",
    "    \n",
    "    iris_fg = fs.get_feature_group(name=\"tita_modal\", version=1)\n",
    "    df = iris_fg.read()\n",
    "    # print(df[\"variety\"])\n",
    "    label = df.iloc[-1][\"survived\"]\n",
    "    if label == 1:\n",
    "        survived = \"alive\"\n",
    "    else:\n",
    "        survived = \"dead\"\n",
    "    #label_url = \"https://raw.githubusercontent.com/featurestoreorg/serverless-ml-course/main/src/01-module/assets/\" + label + \".png\"\n",
    "    label_url = \"https://raw.githubusercontent.com/Man-bearpig/ID2223/main/\" + survived + \".png\"\n",
    "\n",
    "    #print(\"Flower actual: \" + label)\n",
    "    img = Image.open(requests.get(label_url, stream=True).raw)            \n",
    "    img.save(\"./actual_passenger.png\")\n",
    "    dataset_api.upload(\"./actual_passenger.png\", \"Resources/images\", overwrite=True)\n",
    "    \n",
    "    monitor_fg = fs.get_or_create_feature_group(name=\"tita_predictions\",\n",
    "                                                version=1,\n",
    "                                                primary_key=[\"datetime\"],\n",
    "                                                description=\"Outcome Monitoring\"\n",
    "                                                )\n",
    "    \n",
    "    now = datetime.now().strftime(\"%m/%d/%Y, %H:%M:%S\")\n",
    "    data = {\n",
    "        'prediction': [result],\n",
    "        'label': [label],\n",
    "        'datetime': [now],\n",
    "       }\n",
    "    monitor_df = pd.DataFrame(data)\n",
    "    monitor_fg.insert(monitor_df, write_options={\"wait_for_job\" : False})\n",
    "    \n",
    "    history_df = monitor_fg.read()\n",
    "    # Add our prediction to the history, as the history_df won't have it - \n",
    "    # the insertion was done asynchronously, so it will take ~1 min to land on App\n",
    "    history_df = pd.concat([history_df, monitor_df])\n",
    "\n",
    "\n",
    "    df_recent = history_df.tail(5)\n",
    "    dfi.export(df_recent, './df_recent.png', table_conversion = 'matplotlib')\n",
    "    dataset_api.upload(\"./df_recent.png\", \"Resources/images\", overwrite=True)\n",
    "    \n",
    "    predictions = history_df[['prediction']]\n",
    "    labels = history_df[['label']]\n",
    "\n",
    "    # Only create the confusion matrix when our iris_predictions feature group has examples of all 3 iris flowers\n",
    "    print(\"Number of different flower predictions to date: \" + str(predictions.value_counts().count()))\n",
    "#     if predictions.value_counts().count() == 2:\n",
    "    results = confusion_matrix(labels, predictions)\n",
    "    \n",
    "    df_cm = pd.DataFrame(results, ['Alive', 'Dead'],\n",
    "                         ['Pred dead', 'Pred Alive'])\n",
    "    \n",
    "    cm = sns.heatmap(df_cm, annot=True)\n",
    "    fig = cm.get_figure()\n",
    "    fig.savefig(\"./confusion_matrix.png\")\n",
    "    dataset_api.upload(\"./confusion_matrix.png\", \"Resources/images\", overwrite=True)\n",
    "#     else:\n",
    "#         print(\"You need 3 different flower predictions to create the confusion matrix.\")\n",
    "#         print(\"Run the batch inference pipeline more times until you get 3 different iris flower predictions\") \n",
    "\n",
    "if __name__ == \"__main__\":\n",
    "    if LOCAL == True :\n",
    "        g()\n",
    "    else:\n",
    "        with stub.run():\n",
    "            f()\n",
    "\n"
   ]
  },
  {
   "cell_type": "code",
   "execution_count": null,
   "id": "pleasant-episode",
   "metadata": {},
   "outputs": [],
   "source": []
  },
  {
   "cell_type": "code",
   "execution_count": null,
   "id": "16033655",
   "metadata": {},
   "outputs": [],
   "source": []
  }
 ],
 "metadata": {
  "kernelspec": {
   "display_name": "Python 3 (ipykernel)",
   "language": "python",
   "name": "python3"
  },
  "language_info": {
   "codemirror_mode": {
    "name": "ipython",
    "version": 3
   },
   "file_extension": ".py",
   "mimetype": "text/x-python",
   "name": "python",
   "nbconvert_exporter": "python",
   "pygments_lexer": "ipython3",
   "version": "3.9.13"
  }
 },
 "nbformat": 4,
 "nbformat_minor": 5
}
