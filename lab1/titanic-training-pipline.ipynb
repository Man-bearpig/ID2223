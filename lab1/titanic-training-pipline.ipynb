{
 "cells": [
  {
   "cell_type": "code",
   "execution_count": 23,
   "id": "9c1bb3ea",
   "metadata": {
    "scrolled": true
   },
   "outputs": [
    {
     "name": "stdout",
     "output_type": "stream",
     "text": [
      "Connection closed.\n",
      "Connected. Call `.close()` to terminate connection gracefully.\n",
      "\n",
      "Multiple projects found. \n",
      "\n",
      "\t (1) 2221_1\n",
      "\t (2) ID2223lab\n",
      "\n",
      "Enter project to access: 2\n",
      "\n",
      "Logged in to project, explore it here https://c.app.hopsworks.ai:443/p/4264\n",
      "Connected. Call `.close()` to terminate connection gracefully.\n"
     ]
    },
    {
     "name": "stderr",
     "output_type": "stream",
     "text": [
      "UserWarning: pandas only supports SQLAlchemy connectable (engine/connection) or database string URI or sqlite3 DBAPI2 connection. Other DBAPI2 objects are not tested. Please consider using SQLAlchemy.\n",
      "VersionWarning: Incremented version to `18`.\n"
     ]
    },
    {
     "name": "stdout",
     "output_type": "stream",
     "text": [
      "Connected. Call `.close()` to terminate connection gracefully.\n"
     ]
    },
    {
     "data": {
      "application/vnd.jupyter.widget-view+json": {
       "model_id": "aa0526e0dc5f46eebf8729ffbdb6c222",
       "version_major": 2,
       "version_minor": 0
      },
      "text/plain": [
       "  0%|          | 0/6 [00:00<?, ?it/s]"
      ]
     },
     "metadata": {},
     "output_type": "display_data"
    },
    {
     "name": "stdout",
     "output_type": "stream",
     "text": [
      "Model created, explore it at https://c.app.hopsworks.ai:443/p/4264/models/tita_modal/8\n"
     ]
    },
    {
     "data": {
      "image/png": "[encoded data removed]",
      "text/plain": [
       "<Figure size 640x480 with 2 Axes>"
      ]
     },
     "metadata": {},
     "output_type": "display_data"
    }
   ],
   "source": [
    "import os\n",
    "import modal\n",
    "\n",
    "LOCAL=True\n",
    "\n",
    "if LOCAL == False:\n",
    "   stub = modal.Stub()\n",
    "   image = modal.Image.debian_slim().apt_install([\"libgomp1\"]).pip_install([\"hopsworks\", \"seaborn\", \"joblib\", \"scikit-learn\"])\n",
    "\n",
    "   @stub.function(image=image, schedule=modal.Period(days=1), secret=modal.Secret.from_name(\"HOPSWORKS_API_KEY\"))\n",
    "   def f():\n",
    "       g()\n",
    "\n",
    "\n",
    "def g():\n",
    "    import hopsworks\n",
    "    import pandas as pd\n",
    "    from sklearn.neighbors import KNeighborsClassifier\n",
    "    from sklearn.metrics import accuracy_score\n",
    "    from sklearn.metrics import confusion_matrix\n",
    "    from sklearn.metrics import classification_report\n",
    "    import seaborn as sns\n",
    "    from matplotlib import pyplot\n",
    "    from hsml.schema import Schema\n",
    "    from hsml.model_schema import ModelSchema\n",
    "    import joblib\n",
    "    import sklearn.naive_bayes as sk_bayes\n",
    "\n",
    "    # You have to set the environment variable 'HOPSWORKS_API_KEY' for login to succeed\n",
    "    project = hopsworks.login()\n",
    "    # fs is a reference to the Hopsworks Feature Store\n",
    "    fs = project.get_feature_store()\n",
    "\n",
    "    # The feature view is the input set of features for your model. The features can come from different feature groups.    \n",
    "    # You can select features from different feature groups and join them together to create a feature view\n",
    "    try: \n",
    "        feature_view = fs.get_feature_view(name=\"tita_modal\", version=1)\n",
    "    except:\n",
    "        iris_fg = fs.get_feature_group(name=\"tita_modal\", version=1)\n",
    "        query = iris_fg.select_all()\n",
    "        feature_view = fs.create_feature_view(name=\"tita_modal\",\n",
    "                                              version=1,\n",
    "                                              description=\"Read from tita dataset\",\n",
    "                                              labels=[\"survived\"],\n",
    "                                              query=query)    \n",
    "\n",
    "    # You can read training data, randomly split into train/test sets of features (X) and labels (y)        \n",
    "    X_train, X_test, y_train, y_test = feature_view.train_test_split(0.2)\n",
    "\n",
    "    # Train our model with the Scikit-learn K-nearest-neighbors algorithm using our features (X_train) and labels (y_train)\n",
    "    model = sk_bayes.BernoulliNB(alpha=1.0,binarize=0.0,fit_prior=True,class_prior=None)\n",
    "    model.fit(X_train, y_train.values.ravel())\n",
    "\n",
    "    # Evaluate model performance using the features from the test set (X_test)\n",
    "    y_pred = model.predict(X_test)\n",
    "\n",
    "    # Compare predictions (y_pred) with the labels in the test set (y_test)\n",
    "    metrics = classification_report(y_test, y_pred, output_dict=True)\n",
    "    results = confusion_matrix(y_test, y_pred)\n",
    "    \n",
    "    # Create the confusion matrix as a figure, we will later store it as a PNG image file\n",
    "    df_cm = pd.DataFrame(results, ['Alive', 'Dead'],\n",
    "                         ['Pred Alive', 'Pred Dead'])\n",
    "    cm = sns.heatmap(df_cm, annot=True)\n",
    "    fig = cm.get_figure()\n",
    "\n",
    "    # We will now upload our model to the Hopsworks Model Registry. First get an object for the model registry.\n",
    "    mr = project.get_model_registry()\n",
    "    \n",
    "    # The contents of the 'iris_model' directory will be saved to the model registry. Create the dir, first.\n",
    "    model_dir=\"tita_model\"\n",
    "    if os.path.isdir(model_dir) == False:\n",
    "        os.mkdir(model_dir)\n",
    "\n",
    "    # Save both our model and the confusion matrix to 'model_dir', whose contents will be uploaded to the model registry\n",
    "    joblib.dump(model, model_dir + \"/tita_model.pkl\")\n",
    "    fig.savefig(model_dir + \"/confusion_matrix.png\")    \n",
    "\n",
    "\n",
    "    # Specify the schema of the model's input/output using the features (X_train) and labels (y_train)\n",
    "    input_schema = Schema(X_train)\n",
    "    output_schema = Schema(y_train)\n",
    "    model_schema = ModelSchema(input_schema, output_schema)\n",
    "\n",
    "    # Create an entry in the model registry that includes the model's name, desc, metrics\n",
    "    tita_model = mr.python.create_model(\n",
    "        name=\"tita_modal\", \n",
    "        metrics={\"accuracy\" : metrics['accuracy']},\n",
    "        model_schema=model_schema,\n",
    "        description=\"Tita Predictor\"\n",
    "    )\n",
    "    \n",
    "    # Upload the model to the model registry, including all files in 'model_dir'\n",
    "    tita_model.save(model_dir)\n",
    "    \n",
    "if __name__ == \"__main__\":\n",
    "    if LOCAL == True :\n",
    "        g()\n",
    "    else:\n",
    "        with stub.run():\n",
    "            f()\n"
   ]
  },
  {
   "cell_type": "code",
   "execution_count": null,
   "id": "59d3ba64",
   "metadata": {},
   "outputs": [],
   "source": []
  },
  {
   "cell_type": "markdown",
   "id": "a409eabb",
   "metadata": {},
   "source": [
    "## "
   ]
  }
 ],
 "metadata": {
  "kernelspec": {
   "display_name": "Python 3 (ipykernel)",
   "language": "python",
   "name": "python3"
  },
  "language_info": {
   "codemirror_mode": {
    "name": "ipython",
    "version": 3
   },
   "file_extension": ".py",
   "mimetype": "text/x-python",
   "name": "python",
   "nbconvert_exporter": "python",
   "pygments_lexer": "ipython3",
   "version": "3.9.13"
  }
 },
 "nbformat": 4,
 "nbformat_minor": 5
}
