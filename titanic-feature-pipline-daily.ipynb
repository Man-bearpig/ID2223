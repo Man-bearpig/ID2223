{
 "cells": [
  {
   "cell_type": "code",
   "execution_count": 8,
   "id": "92a5d364",
   "metadata": {},
   "outputs": [
    {
     "data": {
      "application/vnd.jupyter.widget-view+json": {
       "model_id": "",
       "version_major": 2,
       "version_minor": 0
      },
      "text/plain": [
       "Output()"
      ]
     },
     "metadata": {},
     "output_type": "display_data"
    },
    {
     "data": {
      "text/html": [
       "<pre style=\"white-space:pre;overflow-x:auto;line-height:normal;font-family:Menlo,'DejaVu Sans Mono',consolas,'Courier New',monospace\"></pre>\n"
      ],
      "text/plain": []
     },
     "metadata": {},
     "output_type": "display_data"
    },
    {
     "data": {
      "text/html": [
       "<pre style=\"white-space:pre;overflow-x:auto;line-height:normal;font-family:Menlo,'DejaVu Sans Mono',consolas,'Courier New',monospace\"><span style=\"color: #008000; text-decoration-color: #008000\">✓</span> Initialized. <span style=\"color: #b2b2b2; text-decoration-color: #b2b2b2\">View app at </span><span style=\"color: #b2b2b2; text-decoration-color: #b2b2b2; text-decoration: underline\">https://modal.com/apps/ap-0UJMS6q9TrxrP9mGKAZBZq</span><span style=\"color: #b2b2b2; text-decoration-color: #b2b2b2\">.</span>\n",
       "</pre>\n"
      ],
      "text/plain": [
       "\u001b[32m✓\u001b[0m Initialized. \u001b[38;5;249mView app at \u001b[0m\u001b[4;38;5;249mhttps://modal.com/apps/ap-0UJMS6q9TrxrP9mGKAZBZq\u001b[0m\u001b[38;5;249m.\u001b[0m\n"
      ]
     },
     "metadata": {},
     "output_type": "display_data"
    },
    {
     "data": {
      "application/vnd.jupyter.widget-view+json": {
       "model_id": "",
       "version_major": 2,
       "version_minor": 0
      },
      "text/plain": [
       "Output()"
      ]
     },
     "metadata": {},
     "output_type": "display_data"
    },
    {
     "data": {
      "text/html": [
       "<pre style=\"white-space:pre;overflow-x:auto;line-height:normal;font-family:Menlo,'DejaVu Sans Mono',consolas,'Courier New',monospace\"></pre>\n"
      ],
      "text/plain": []
     },
     "metadata": {},
     "output_type": "display_data"
    },
    {
     "data": {
      "text/html": [
       "<pre style=\"white-space:pre;overflow-x:auto;line-height:normal;font-family:Menlo,'DejaVu Sans Mono',consolas,'Courier New',monospace\"><span style=\"color: #008000; text-decoration-color: #008000\">✓</span> Created objects.\n",
       "<span style=\"color: #808080; text-decoration-color: #808080\">└── </span><span style=\"color: #008000; text-decoration-color: #008000\">🔨</span> Created f.\n",
       "</pre>\n"
      ],
      "text/plain": [
       "\u001b[32m✓\u001b[0m Created objects.\n",
       "\u001b[38;5;244m└── \u001b[0m\u001b[32m🔨\u001b[0m Created f.\n"
      ]
     },
     "metadata": {},
     "output_type": "display_data"
    },
    {
     "data": {
      "application/vnd.jupyter.widget-view+json": {
       "model_id": "",
       "version_major": 2,
       "version_minor": 0
      },
      "text/plain": [
       "Output()"
      ]
     },
     "metadata": {},
     "output_type": "display_data"
    },
    {
     "data": {
      "text/html": [
       "<pre style=\"white-space:pre;overflow-x:auto;line-height:normal;font-family:Menlo,'DejaVu Sans Mono',consolas,'Courier New',monospace\"><span style=\"color: #000080; text-decoration-color: #000080\">Connected. Call `.close()` to terminate connection gracefully.\n",
       "</span></pre>\n"
      ],
      "text/plain": [
       "\u001b[34mConnected. Call `.close()` to terminate connection gracefully.\n",
       "\u001b[0m"
      ]
     },
     "metadata": {},
     "output_type": "display_data"
    },
    {
     "data": {
      "text/html": [
       "<pre style=\"white-space:pre;overflow-x:auto;line-height:normal;font-family:Menlo,'DejaVu Sans Mono',consolas,'Courier New',monospace\"><span style=\"color: #000080; text-decoration-color: #000080\">\n",
       "</span></pre>\n"
      ],
      "text/plain": [
       "\u001b[34m\n",
       "\u001b[0m"
      ]
     },
     "metadata": {},
     "output_type": "display_data"
    },
    {
     "data": {
      "text/html": [
       "<pre style=\"white-space:pre;overflow-x:auto;line-height:normal;font-family:Menlo,'DejaVu Sans Mono',consolas,'Courier New',monospace\"><span style=\"color: #000080; text-decoration-color: #000080\">Logged in to project, explore it here https://c.app.hopsworks.ai:443/p/4264\n",
       "</span></pre>\n"
      ],
      "text/plain": [
       "\u001b[34mLogged in to project, explore it here https://c.app.hopsworks.ai:443/p/4264\n",
       "\u001b[0m"
      ]
     },
     "metadata": {},
     "output_type": "display_data"
    },
    {
     "data": {
      "text/html": [
       "<pre style=\"white-space:pre;overflow-x:auto;line-height:normal;font-family:Menlo,'DejaVu Sans Mono',consolas,'Courier New',monospace\"><span style=\"color: #800000; text-decoration-color: #800000\">DeprecationWarning: the imp module is deprecated in favour of importlib; see the module's documentation for alternative uses\n",
       "</span></pre>\n"
      ],
      "text/plain": [
       "\u001b[31mDeprecationWarning: the imp module is deprecated in favour of importlib; see the module's documentation for alternative uses\n",
       "\u001b[0m"
      ]
     },
     "metadata": {},
     "output_type": "display_data"
    },
    {
     "data": {
      "text/html": [
       "<pre style=\"white-space:pre;overflow-x:auto;line-height:normal;font-family:Menlo,'DejaVu Sans Mono',consolas,'Courier New',monospace\"><span style=\"color: #000080; text-decoration-color: #000080\">Connected. Call `.close()` to terminate connection gracefully.\n",
       "</span></pre>\n"
      ],
      "text/plain": [
       "\u001b[34mConnected. Call `.close()` to terminate connection gracefully.\n",
       "\u001b[0m"
      ]
     },
     "metadata": {},
     "output_type": "display_data"
    },
    {
     "data": {
      "text/html": [
       "<pre style=\"white-space:pre;overflow-x:auto;line-height:normal;font-family:Menlo,'DejaVu Sans Mono',consolas,'Courier New',monospace\"><span style=\"color: #000080; text-decoration-color: #000080\">Setosa added\n",
       "</span></pre>\n"
      ],
      "text/plain": [
       "\u001b[34mSetosa added\n",
       "\u001b[0m"
      ]
     },
     "metadata": {},
     "output_type": "display_data"
    },
    {
     "data": {
      "text/html": [
       "<pre style=\"white-space:pre;overflow-x:auto;line-height:normal;font-family:Menlo,'DejaVu Sans Mono',consolas,'Courier New',monospace\"><span style=\"color: #800000; text-decoration-color: #800000\"></span></pre>\n"
      ],
      "text/plain": []
     },
     "metadata": {},
     "output_type": "display_data"
    },
    {
     "data": {
      "text/html": [
       "<pre style=\"white-space:pre;overflow-x:auto;line-height:normal;font-family:Menlo,'DejaVu Sans Mono',consolas,'Courier New',monospace\"><span style=\"color: #800000; text-decoration-color: #800000\">Uploading Dataframe: 0.00% |          | Rows 0/1 | Elapsed Time: 00:00 | Remaining Time: ?</span></pre>\n"
      ],
      "text/plain": [
       "\u001b[31mUploading Dataframe: 0.00% |          | Rows 0/1 | Elapsed Time: 00:00 | Remaining Time: ?\u001b[0m"
      ]
     },
     "metadata": {},
     "output_type": "display_data"
    },
    {
     "data": {
      "text/html": [
       "<pre style=\"white-space:pre;overflow-x:auto;line-height:normal;font-family:Menlo,'DejaVu Sans Mono',consolas,'Courier New',monospace\"><span style=\"color: #800000; text-decoration-color: #800000\">Uploading Dataframe: 100.00% |██████████| Rows 1/1 | Elapsed Time: 00:00 | Remaining Time: 00:00\n",
       "</span></pre>\n"
      ],
      "text/plain": [
       "\u001b[31mUploading Dataframe: 100.00% |██████████| Rows 1/1 | Elapsed Time: 00:00 | Remaining Time: 00:00\n",
       "\u001b[0m"
      ]
     },
     "metadata": {},
     "output_type": "display_data"
    },
    {
     "data": {
      "text/html": [
       "<pre style=\"white-space:pre;overflow-x:auto;line-height:normal;font-family:Menlo,'DejaVu Sans Mono',consolas,'Courier New',monospace\"><span style=\"color: #000080; text-decoration-color: #000080\">Launching offline feature group backfill job...\n",
       "</span></pre>\n"
      ],
      "text/plain": [
       "\u001b[34mLaunching offline feature group backfill job...\n",
       "\u001b[0m"
      ]
     },
     "metadata": {},
     "output_type": "display_data"
    },
    {
     "data": {
      "text/html": [
       "<pre style=\"white-space:pre;overflow-x:auto;line-height:normal;font-family:Menlo,'DejaVu Sans Mono',consolas,'Courier New',monospace\"><span style=\"color: #000080; text-decoration-color: #000080\">Backfill Job started successfully, you can follow the progress at \n",
       "</span></pre>\n"
      ],
      "text/plain": [
       "\u001b[34mBackfill Job started successfully, you can follow the progress at \n",
       "\u001b[0m"
      ]
     },
     "metadata": {},
     "output_type": "display_data"
    },
    {
     "data": {
      "text/html": [
       "<pre style=\"white-space:pre;overflow-x:auto;line-height:normal;font-family:Menlo,'DejaVu Sans Mono',consolas,'Courier New',monospace\"><span style=\"color: #000080; text-decoration-color: #000080\">https://c.app.hopsworks.ai/p/4264/jobs/named/tita_modal_1_offline_fg_backfill/executions\n",
       "</span></pre>\n"
      ],
      "text/plain": [
       "\u001b[34mhttps://c.app.hopsworks.ai/p/4264/jobs/named/tita_modal_1_offline_fg_backfill/executions\n",
       "\u001b[0m"
      ]
     },
     "metadata": {},
     "output_type": "display_data"
    },
    {
     "data": {
      "text/html": [
       "<pre style=\"white-space:pre;overflow-x:auto;line-height:normal;font-family:Menlo,'DejaVu Sans Mono',consolas,'Courier New',monospace\"></pre>\n"
      ],
      "text/plain": []
     },
     "metadata": {},
     "output_type": "display_data"
    },
    {
     "data": {
      "text/html": [
       "<pre style=\"white-space:pre;overflow-x:auto;line-height:normal;font-family:Menlo,'DejaVu Sans Mono',consolas,'Courier New',monospace\"><span style=\"color: #008000; text-decoration-color: #008000\">✓</span> App completed.\n",
       "</pre>\n"
      ],
      "text/plain": [
       "\u001b[32m✓\u001b[0m App completed.\n"
      ]
     },
     "metadata": {},
     "output_type": "display_data"
    }
   ],
   "source": [
    "import os\n",
    "import modal\n",
    "\n",
    "LOCAL=False\n",
    "\n",
    "if LOCAL == False:\n",
    "   stub = modal.Stub()\n",
    "   image = modal.Image.debian_slim().pip_install([\"hopsworks==3.0.4\"]) \n",
    "\n",
    "   @stub.function(image=image, schedule=modal.Period(days=1), secret=modal.Secret.from_name(\"HOPSWORKS_API_KEY\"))\n",
    "   def f():\n",
    "       g()\n",
    "\n",
    "\n",
    "def generate_passenger(survived, passenger_id_max, passenger_id_min, age_max, age_min, sibsp_max, sibsp_min, parch_max, parch_min, fare_max, fare_min):\n",
    "    \"\"\"\n",
    "    Returns a single iris flower as a single row in a DataFrame\n",
    "    \"\"\"\n",
    "    import pandas as pd\n",
    "    import random\n",
    "    \n",
    "    cabin_random = random.uniform(0,2)\n",
    "    if cabin_random >= 1:\n",
    "        noca = 1\n",
    "        yca = 0\n",
    "    else:\n",
    "        noca = 0\n",
    "        yca = 1\n",
    "    \n",
    "    sex_random = random.uniform(0,2)\n",
    "    if sex_random >= 1:\n",
    "        sexf = 1\n",
    "        sexm = 0\n",
    "    else:\n",
    "        sexf = 0\n",
    "        sexm = 1\n",
    "    \n",
    "    bark_random = random.uniform(0,3)\n",
    "    if bark_random >= 2:\n",
    "        barkc = 1\n",
    "        barkq = 0\n",
    "        barks = 0\n",
    "    if bark_random >= 1:\n",
    "        barkc = 0\n",
    "        barkq = 1\n",
    "        barks = 0\n",
    "    else:\n",
    "        barkc = 0\n",
    "        barkq = 0\n",
    "        barks = 1\n",
    "    \n",
    "    class_random = random.uniform(0,3)\n",
    "    if class_random >= 2:\n",
    "        class1 = 1\n",
    "        class2 = 0\n",
    "        class3 = 0\n",
    "    if class_random >= 1:\n",
    "        class1 = 0\n",
    "        class2 = 1\n",
    "        class3 = 0\n",
    "    else:\n",
    "        class1 = 0\n",
    "        class2 = 0\n",
    "        class3 = 1\n",
    "    \n",
    "    df = pd.DataFrame({\n",
    "                        \"passengerid\": [random.randint(passenger_id_min, passenger_id_max)],\n",
    "                        \"age\": [random.uniform(age_min, age_max)],\n",
    "                        \"sibsp\": [random.randint(sibsp_min, sibsp_max)],\n",
    "                        \"parch\": [random.randint(parch_min, parch_max)],\n",
    "                        \"fare\": [random.uniform(fare_min, fare_max)],\n",
    "                        \"cabin_no\": [noca],\n",
    "                        \"cabin_yes\": [yca],\n",
    "                        \"embarked_c\": [barkc],\n",
    "                        \"embarked_q\": [barkq],\n",
    "                        \"embarked_s\": [barks],\n",
    "                        \"sex_female\": [sexf],\n",
    "                        \"sex_male\": [sexm],\n",
    "                        \"pclass_1\": [class1],\n",
    "                        \"pclass_2\": [class2],\n",
    "                        \"pclass_3\": [class3],\n",
    "                      })\n",
    "    df['survived'] = survived\n",
    "    return df\n",
    "\n",
    "\n",
    "def get_random_iris_flower():\n",
    "    \"\"\"\n",
    "    Returns a DataFrame containing one random iris flower\n",
    "    \"\"\"\n",
    "    import pandas as pd\n",
    "    import random\n",
    "    # randomly pick one of these 3 and write it to the featurestoe\n",
    "    \n",
    "    dead_df = generate_passenger(0, 2000, 0, 80, 0, 8, 0, 6, 4, 400, 0)\n",
    "    alive_df = generate_passenger(1,  2000, 0, 30, 0, 4, 0, 3, 0, 512, 10)\n",
    "    \n",
    "    pick_random = random.uniform(0,2)\n",
    "    if pick_random >= 2:\n",
    "        iris_df = dead_df\n",
    "        print(\"Versicolor added\")\n",
    "    else:\n",
    "        iris_df = alive_df\n",
    "        print(\"Setosa added\")\n",
    "\n",
    "    return iris_df\n",
    "\n",
    "\n",
    "def g():\n",
    "    import hopsworks\n",
    "    import pandas as pd\n",
    "\n",
    "    project = hopsworks.login()\n",
    "    fs = project.get_feature_store()\n",
    "\n",
    "    iris_df = get_random_iris_flower()\n",
    "\n",
    "    iris_fg = fs.get_feature_group(name=\"tita_modal\",version=1)\n",
    "    iris_fg.insert(iris_df, write_options={\"wait_for_job\" : False})\n",
    "\n",
    "if __name__ == \"__main__\":\n",
    "    if LOCAL == True :\n",
    "        g()\n",
    "    else:\n",
    "        with stub.run():\n",
    "            f()"
   ]
  },
  {
   "cell_type": "code",
   "execution_count": null,
   "id": "ed32ea53",
   "metadata": {},
   "outputs": [],
   "source": []
  },
  {
   "cell_type": "code",
   "execution_count": null,
   "id": "7079860c",
   "metadata": {},
   "outputs": [],
   "source": []
  }
 ],
 "metadata": {
  "kernelspec": {
   "display_name": "Python 3 (ipykernel)",
   "language": "python",
   "name": "python3"
  },
  "language_info": {
   "codemirror_mode": {
    "name": "ipython",
    "version": 3
   },
   "file_extension": ".py",
   "mimetype": "text/x-python",
   "name": "python",
   "nbconvert_exporter": "python",
   "pygments_lexer": "ipython3",
   "version": "3.9.13"
  }
 },
 "nbformat": 4,
 "nbformat_minor": 5
}
