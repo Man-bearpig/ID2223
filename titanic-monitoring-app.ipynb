{
 "cells": [
  {
   "cell_type": "code",
   "execution_count": 4,
   "id": "0a5266a5",
   "metadata": {},
   "outputs": [
    {
     "name": "stdout",
     "output_type": "stream",
     "text": [
      "Connection closed.\n",
      "Connected. Call `.close()` to terminate connection gracefully.\n",
      "\n",
      "Multiple projects found. \n",
      "\n",
      "\t (1) ID2223lab\n",
      "\t (2) 2221_1\n",
      "\n",
      "Enter project to access: 1\n",
      "\n",
      "Logged in to project, explore it here https://c.app.hopsworks.ai:443/p/4264\n",
      "Connected. Call `.close()` to terminate connection gracefully.\n"
     ]
    },
    {
     "data": {
      "application/vnd.jupyter.widget-view+json": {
       "model_id": "078eb515dae54981ad91b1a6a27bd77d",
       "version_major": 2,
       "version_minor": 0
      },
      "text/plain": [
       "Downloading: 0.000%|          | 0/873 elapsed<00:00 remaining<?"
      ]
     },
     "metadata": {},
     "output_type": "display_data"
    },
    {
     "data": {
      "application/vnd.jupyter.widget-view+json": {
       "model_id": "c601912fcede4e4f8e252c096a725472",
       "version_major": 2,
       "version_minor": 0
      },
      "text/plain": [
       "Downloading: 0.000%|          | 0/873 elapsed<00:00 remaining<?"
      ]
     },
     "metadata": {},
     "output_type": "display_data"
    },
    {
     "data": {
      "application/vnd.jupyter.widget-view+json": {
       "model_id": "a6398a2649314d4a843381df971bf381",
       "version_major": 2,
       "version_minor": 0
      },
      "text/plain": [
       "Downloading: 0.000%|          | 0/26612 elapsed<00:00 remaining<?"
      ]
     },
     "metadata": {},
     "output_type": "display_data"
    },
    {
     "data": {
      "application/vnd.jupyter.widget-view+json": {
       "model_id": "00b52c9f440c482983297ea390b4aa72",
       "version_major": 2,
       "version_minor": 0
      },
      "text/plain": [
       "Downloading: 0.000%|          | 0/10613 elapsed<00:00 remaining<?"
      ]
     },
     "metadata": {},
     "output_type": "display_data"
    },
    {
     "name": "stdout",
     "output_type": "stream",
     "text": [
      "Running on local URL:  http://127.0.0.1:7861\n",
      "\n",
      "To create a public link, set `share=True` in `launch()`.\n"
     ]
    },
    {
     "data": {
      "text/html": [
       "<div><iframe src=\"http://127.0.0.1:7861/\" width=\"100%\" height=\"500\" allow=\"autoplay; camera; microphone; clipboard-read; clipboard-write;\" frameborder=\"0\" allowfullscreen></iframe></div>"
      ],
      "text/plain": [
       "<IPython.core.display.HTML object>"
      ]
     },
     "metadata": {},
     "output_type": "display_data"
    },
    {
     "data": {
      "text/plain": [
       "(<gradio.routes.App at 0x1dcef39db20>, 'http://127.0.0.1:7861/', None)"
      ]
     },
     "execution_count": 4,
     "metadata": {},
     "output_type": "execute_result"
    }
   ],
   "source": [
    "import gradio as gr\n",
    "from PIL import Image\n",
    "import hopsworks\n",
    "\n",
    "project = hopsworks.login()\n",
    "fs = project.get_feature_store()\n",
    "\n",
    "dataset_api = project.get_dataset_api()\n",
    "\n",
    "dataset_api.download(\"Resources/images/pred_passenger.png\", overwrite=True)\n",
    "dataset_api.download(\"Resources/images/actual_passenger.png\", overwrite=True)\n",
    "dataset_api.download(\"Resources/images/df_recent.png\", overwrite=True)\n",
    "dataset_api.download(\"Resources/images/confusion_matrix.png\", overwrite=True)\n",
    "\n",
    "with gr.Blocks() as demo:\n",
    "    with gr.Row():\n",
    "      with gr.Column():\n",
    "          gr.Label(\"Today's Predicted Image\")\n",
    "          input_img = gr.Image(\"pred_passenger.png\", elem_id=\"predicted-img\")\n",
    "      with gr.Column():          \n",
    "          gr.Label(\"Today's Actual Image\")\n",
    "          input_img = gr.Image(\"actual_passenger.png\", elem_id=\"actual-img\")        \n",
    "    with gr.Row():\n",
    "      with gr.Column():\n",
    "          gr.Label(\"Recent Prediction History\")\n",
    "          input_img = gr.Image(\"df_recent.png\", elem_id=\"recent-predictions\")\n",
    "      with gr.Column():          \n",
    "          gr.Label(\"Confusion Maxtrix with Historical Prediction Performance\")\n",
    "          input_img = gr.Image(\"confusion_matrix.png\", elem_id=\"confusion-matrix\")        \n",
    "\n",
    "demo.launch()"
   ]
  },
  {
   "cell_type": "code",
   "execution_count": null,
   "id": "d1a3a4bc",
   "metadata": {},
   "outputs": [],
   "source": []
  },
  {
   "cell_type": "code",
   "execution_count": null,
   "id": "fed000b0",
   "metadata": {},
   "outputs": [],
   "source": []
  }
 ],
 "metadata": {
  "kernelspec": {
   "display_name": "Python 3 (ipykernel)",
   "language": "python",
   "name": "python3"
  },
  "language_info": {
   "codemirror_mode": {
    "name": "ipython",
    "version": 3
   },
   "file_extension": ".py",
   "mimetype": "text/x-python",
   "name": "python",
   "nbconvert_exporter": "python",
   "pygments_lexer": "ipython3",
   "version": "3.9.13"
  }
 },
 "nbformat": 4,
 "nbformat_minor": 5
}
